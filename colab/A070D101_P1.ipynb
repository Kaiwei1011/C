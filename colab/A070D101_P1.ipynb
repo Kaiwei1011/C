{
  "nbformat": 4,
  "nbformat_minor": 0,
  "metadata": {
    "colab": {
      "name": "Untitled1.ipynb",
      "version": "0.3.2",
      "provenance": [],
      "include_colab_link": true
    },
    "kernelspec": {
      "name": "python3",
      "display_name": "Python 3"
    }
  },
  "cells": [
    {
      "cell_type": "markdown",
      "metadata": {
        "id": "view-in-github",
        "colab_type": "text"
      },
      "source": [
        "<a href=\"https://colab.research.google.com/github/Kaiwei1011/C/blob/master/colab/A070D101_P1.ipynb\" target=\"_parent\"><img src=\"https://colab.research.google.com/assets/colab-badge.svg\" alt=\"Open In Colab\"/></a>"
      ]
    },
    {
      "metadata": {
        "id": "3DYtVmKcStKe",
        "colab_type": "code",
        "colab": {
          "base_uri": "https://localhost:8080/",
          "height": 34
        },
        "outputId": "6e9b8f7d-d16f-4235-cf4e-060544ce7ae6"
      },
      "cell_type": "code",
      "source": [
        "a=10\n",
        "b=20\n",
        "c=20\n",
        "g={'a':6,'b':8}\n",
        "l={'b':9,'c':10}\n",
        "eval(\"a+b+c\",g,l)"
      ],
      "execution_count": 1,
      "outputs": [
        {
          "output_type": "execute_result",
          "data": {
            "text/plain": [
              "25"
            ]
          },
          "metadata": {
            "tags": []
          },
          "execution_count": 1
        }
      ]
    },
    {
      "metadata": {
        "id": "eWPkeZfWW3gD",
        "colab_type": "code",
        "colab": {
          "base_uri": "https://localhost:8080/",
          "height": 85
        },
        "outputId": "0cd339b8-01f1-4d4f-f8a3-1f2921331633"
      },
      "cell_type": "code",
      "source": [
        ">>> q = 259\n",
        ">>> p = 0.038\n",
        ">>> print(q, p, p * q)\n",
        ">>> print(q, p, p * q, sep=\",\")\n",
        ">>> print(q, p, p * q, sep=\" :-) \")\n",
        ">>> print(str(q) + \" \" + str(p) + \" \" + str(p * q))\n"
      ],
      "execution_count": 2,
      "outputs": [
        {
          "output_type": "stream",
          "text": [
            "259 0.038 9.842\n",
            "259,0.038,9.842\n",
            "259 :-) 0.038 :-) 9.842\n",
            "259 0.038 9.842\n"
          ],
          "name": "stdout"
        }
      ]
    },
    {
      "metadata": {
        "id": "yPjJ7cPdW-Jb",
        "colab_type": "code",
        "colab": {
          "base_uri": "https://localhost:8080/",
          "height": 34
        },
        "outputId": "8fa37d89-306e-4b4d-84ee-2451203468f4"
      },
      "cell_type": "code",
      "source": [
        "'%c' % 97\n",
        "'%c %c %c %c %c'% (97,98,99,100,101)\n",
        "'%d 八進位是%o, 十六進位是  %x' % (97,97, 97)"
      ],
      "execution_count": 3,
      "outputs": [
        {
          "output_type": "execute_result",
          "data": {
            "text/plain": [
              "'97 八進位是141, 十六進位是  61'"
            ]
          },
          "metadata": {
            "tags": []
          },
          "execution_count": 3
        }
      ]
    },
    {
      "metadata": {
        "id": "q9taxlnRXEJr",
        "colab_type": "code",
        "colab": {
          "base_uri": "https://localhost:8080/",
          "height": 34
        },
        "outputId": "63ba4d96-d11c-4fc3-85d1-a5db6f3c5cd7"
      },
      "cell_type": "code",
      "source": [
        "\"{0} love {1}......{2}\".format(\"I\",\"listening\",\"classical Music\")"
      ],
      "execution_count": 10,
      "outputs": [
        {
          "output_type": "execute_result",
          "data": {
            "text/plain": [
              "'I love listening......classical Music'"
            ]
          },
          "metadata": {
            "tags": []
          },
          "execution_count": 10
        }
      ]
    }
  ]
}