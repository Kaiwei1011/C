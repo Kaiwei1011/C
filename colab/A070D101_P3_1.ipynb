{
  "nbformat": 4,
  "nbformat_minor": 0,
  "metadata": {
    "colab": {
      "name": "Untitled0.ipynb",
      "version": "0.3.2",
      "provenance": [],
      "include_colab_link": true
    },
    "kernelspec": {
      "name": "python3",
      "display_name": "Python 3"
    }
  },
  "cells": [
    {
      "cell_type": "markdown",
      "metadata": {
        "id": "view-in-github",
        "colab_type": "text"
      },
      "source": [
        "<a href=\"https://colab.research.google.com/github/Kaiwei1011/C/blob/master/colab/A070D101_P3_1.ipynb\" target=\"_parent\"><img src=\"https://colab.research.google.com/assets/colab-badge.svg\" alt=\"Open In Colab\"/></a>"
      ]
    },
    {
      "metadata": {
        "id": "PzL_VCZJAdiF",
        "colab_type": "code",
        "colab": {
          "base_uri": "https://localhost:8080/",
          "height": 51
        },
        "outputId": "09f901c5-0c9a-4ee7-b2e1-2b6d0faadefe"
      },
      "cell_type": "code",
      "source": [
        "# Display two messages\n",
        "print(\"Welcome to Python\")\n",
        "print(\"Python is funNNNNNY\")\n"
      ],
      "execution_count": 2,
      "outputs": [
        {
          "output_type": "stream",
          "text": [
            "Welcome to Python\n",
            "Python is funNNNNNY\n"
          ],
          "name": "stdout"
        }
      ]
    },
    {
      "metadata": {
        "id": "bBOUeecEBY5q",
        "colab_type": "text"
      },
      "cell_type": "markdown",
      "source": [
        "我的第一個作業"
      ]
    },
    {
      "metadata": {
        "id": "mJ2LmQyeBgoy",
        "colab_type": "code",
        "colab": {
          "base_uri": "https://localhost:8080/",
          "height": 68
        },
        "outputId": "8109e56e-8071-455f-9ea3-65e0fe91f6ca"
      },
      "cell_type": "code",
      "source": [
        "# Display three messages\n",
        "print(\"Welcome to DPython\")\n",
        "print(\"Python is Dfun\")\n",
        "print(\"Problem DDriven\")  \n"
      ],
      "execution_count": 3,
      "outputs": [
        {
          "output_type": "stream",
          "text": [
            "Welcome to DPython\n",
            "Python is Dfun\n",
            "Problem DDriven\n"
          ],
          "name": "stdout"
        }
      ]
    },
    {
      "metadata": {
        "id": "ZKWWU4BJBqoR",
        "colab_type": "text"
      },
      "cell_type": "markdown",
      "source": [
        "我的第二個作業"
      ]
    },
    {
      "metadata": {
        "id": "0E7g_WGSBukA",
        "colab_type": "code",
        "colab": {
          "base_uri": "https://localhost:8080/",
          "height": 34
        },
        "outputId": "3f4f4f40-f729-48ec-bb68-2856713592d8"
      },
      "cell_type": "code",
      "source": [
        "# Compute expression\n",
        "print((20.5 + 2 * 3) / (45 - 3.5))"
      ],
      "execution_count": 5,
      "outputs": [
        {
          "output_type": "stream",
          "text": [
            "0.6385542168674698\n"
          ],
          "name": "stdout"
        }
      ]
    },
    {
      "metadata": {
        "id": "tHEb7nCOCB9x",
        "colab_type": "text"
      },
      "cell_type": "markdown",
      "source": [
        "我的第三個作業"
      ]
    },
    {
      "metadata": {
        "id": "MPhNefK-CFnh",
        "colab_type": "code",
        "colab": {
          "base_uri": "https://localhost:8080/",
          "height": 51
        },
        "outputId": "81925a12-ae56-4c92-f724-8b2cf6a00525"
      },
      "cell_type": "code",
      "source": [
        "# Convert Fahrenheit to Celsius\n",
        "print(\"Fahrenheit 35 is Celsius degree \")\n",
        "print(5 / 9 * (45 - 32))\n"
      ],
      "execution_count": 6,
      "outputs": [
        {
          "output_type": "stream",
          "text": [
            "Fahrenheit 35 is Celsius degree \n",
            "7.222222222222222\n"
          ],
          "name": "stdout"
        }
      ]
    },
    {
      "metadata": {
        "id": "BV2xbPdjCQPI",
        "colab_type": "text"
      },
      "cell_type": "markdown",
      "source": [
        "我的第四個作業"
      ]
    },
    {
      "metadata": {
        "id": "ZKuGQ_FhCfrB",
        "colab_type": "code",
        "colab": {
          "base_uri": "https://localhost:8080/",
          "height": 34
        },
        "outputId": "64e78dc2-8919-4bfa-9bbc-2e7b12c3b252"
      },
      "cell_type": "code",
      "source": [
        "# Assign a radius\n",
        "radius = 20 # radius is now 20\n",
        "\n",
        "# Compute area\n",
        "area = radius * radius * 3.14159\n",
        "\n",
        "# Display results SSSSSSS\n",
        "print(\"The area for the circle of radius\", radius, \"is\", area)"
      ],
      "execution_count": 10,
      "outputs": [
        {
          "output_type": "stream",
          "text": [
            "The area for the circle of radius 20 is 1256.636\n"
          ],
          "name": "stdout"
        }
      ]
    },
    {
      "metadata": {
        "id": "cu2kYbs9C5GZ",
        "colab_type": "text"
      },
      "cell_type": "markdown",
      "source": [
        "我的第五個作業"
      ]
    },
    {
      "metadata": {
        "id": "wG1RaYhSC7_5",
        "colab_type": "code",
        "colab": {
          "base_uri": "https://localhost:8080/",
          "height": 51
        },
        "outputId": "81290825-63c3-4ebc-ffe6-cb7f560f1299"
      },
      "cell_type": "code",
      "source": [
        "# Prompt the user to enter a radius\n",
        "radius = eval(input(\"Enter a number for radius: \"))\n",
        "\n",
        "# Compute area的AREA\n",
        "area = radius * radius * 3.14159\n",
        "\n",
        "# Display results\n",
        "print(\"The area for the circle of radius\", radius, \"is\", area)\n"
      ],
      "execution_count": 11,
      "outputs": [
        {
          "output_type": "stream",
          "text": [
            "Enter a number for radius: 12\n",
            "The area for the circle of radius 12 is 452.38896\n"
          ],
          "name": "stdout"
        }
      ]
    },
    {
      "metadata": {
        "id": "mhWjQI91DKoB",
        "colab_type": "text"
      },
      "cell_type": "markdown",
      "source": [
        "我的第六個作業"
      ]
    },
    {
      "metadata": {
        "id": "AHnNP6CeDNVh",
        "colab_type": "code",
        "colab": {
          "base_uri": "https://localhost:8080/",
          "height": 102
        },
        "outputId": "ea95ff2e-6cc5-496a-9dac-22094413ce79"
      },
      "cell_type": "code",
      "source": [
        "# Prompt the user to enter three numbers\n",
        "number1 = eval(input(\"Enter the first number: \"))\n",
        "number2 = eval(input(\"Enter the second number: \"))\n",
        "number3 = eval(input(\"Enter the third number: \"))\n",
        "number4 = eval(input(\"Enter the forth number: \"))\n",
        "\n",
        "# Compute average\n",
        "average = (number1 + number2 + number3 + number4) / 4\n",
        "\n",
        "# Display result\n",
        "print(\"The average of\", number1, number2, number3, number4,\n",
        "    \"is\", average)\n"
      ],
      "execution_count": 14,
      "outputs": [
        {
          "output_type": "stream",
          "text": [
            "Enter the first number: 12\n",
            "Enter the second number: 15\n",
            "Enter the third number: 17\n",
            "Enter the forth number: 19\n",
            "The average of 12 15 17 19 is 15.75\n"
          ],
          "name": "stdout"
        }
      ]
    },
    {
      "metadata": {
        "id": "D9toOrVSDzGh",
        "colab_type": "text"
      },
      "cell_type": "markdown",
      "source": [
        "我的第七個作業"
      ]
    },
    {
      "metadata": {
        "id": "YmpFU-8KD23x",
        "colab_type": "code",
        "colab": {
          "base_uri": "https://localhost:8080/",
          "height": 51
        },
        "outputId": "661a45b6-5d7d-422c-8505-cb44234d4f9d"
      },
      "cell_type": "code",
      "source": [
        "# Prompt the user to enter three numbers\n",
        "number1, number2, number3, number4 = eval(input(\n",
        "  \"Enter three numbers separated by commas: \"))\n",
        "\n",
        "# Compute average\n",
        "average = (number1 + number2 + number3 + number4) / 4\n",
        "\n",
        "# Display result\n",
        "print(\"The average of\", number1, number2, number3, number4,\n",
        "    \"is\", average)\n"
      ],
      "execution_count": 15,
      "outputs": [
        {
          "output_type": "stream",
          "text": [
            "Enter three numbers separated by commas: 15,98,54,31\n",
            "The average of 15 98 54 31 is 49.5\n"
          ],
          "name": "stdout"
        }
      ]
    },
    {
      "metadata": {
        "id": "5wtUh2AeEOzZ",
        "colab_type": "text"
      },
      "cell_type": "markdown",
      "source": [
        "我的第八個作業"
      ]
    },
    {
      "metadata": {
        "id": "rY6y0WuDERGJ",
        "colab_type": "code",
        "colab": {
          "base_uri": "https://localhost:8080/",
          "height": 51
        },
        "outputId": "ef310d34-c2e6-4553-c04f-0be5ad10b158"
      },
      "cell_type": "code",
      "source": [
        "# Prompt the user for input\n",
        "seconds = eval(input(\"Enter an integer for seconds: \"))\n",
        "\n",
        "# Get minutes and remaining seconds\n",
        "minutes = seconds // 60     # Find minutes in seconds  一分鐘等於60秒\n",
        "remainingSeconds = seconds % 60   # Seconds remaining\n",
        "print(seconds, \"seconds is\", minutes,  \n",
        "  \"minutes and\", remainingSeconds, \"seconds\")\n"
      ],
      "execution_count": 16,
      "outputs": [
        {
          "output_type": "stream",
          "text": [
            "Enter an integer for seconds: 9000\n",
            "9000 seconds is 150 minutes and 0 seconds\n"
          ],
          "name": "stdout"
        }
      ]
    },
    {
      "metadata": {
        "id": "BSly29JUEiYy",
        "colab_type": "text"
      },
      "cell_type": "markdown",
      "source": [
        "我的第九個作業"
      ]
    },
    {
      "metadata": {
        "id": "6Eh_NRtnEkrB",
        "colab_type": "code",
        "colab": {
          "base_uri": "https://localhost:8080/",
          "height": 51
        },
        "outputId": "39099bbd-551c-4164-c31b-38e8d956a391"
      },
      "cell_type": "code",
      "source": [
        "# Prompt the user for input\n",
        "purchaseAmount = eval(input(\"Enter purchase amount: \"))\n",
        "\n",
        "# Compute sales tax\n",
        "tax = purchaseAmount * 0.06\n",
        "\n",
        "# Display tax amount with two digits after decimal point 看不懂\n",
        "print(\"Sales tax is\", int(tax * 100) / 100.0)"
      ],
      "execution_count": 17,
      "outputs": [
        {
          "output_type": "stream",
          "text": [
            "Enter purchase amount: 198.55\n",
            "Sales tax is 11.91\n"
          ],
          "name": "stdout"
        }
      ]
    },
    {
      "metadata": {
        "id": "52gqBG4eEz6Q",
        "colab_type": "text"
      },
      "cell_type": "markdown",
      "source": [
        "我的第十個作業"
      ]
    }
  ]
}